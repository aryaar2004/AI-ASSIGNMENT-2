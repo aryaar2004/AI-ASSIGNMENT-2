{
  "nbformat": 4,
  "nbformat_minor": 0,
  "metadata": {
    "colab": {
      "provenance": [],
      "authorship_tag": "ABX9TyMj7SHDo8C7VkxSVcDYeaR2",
      "include_colab_link": true
    },
    "kernelspec": {
      "name": "python3",
      "display_name": "Python 3"
    },
    "language_info": {
      "name": "python"
    }
  },
  "cells": [
    {
      "cell_type": "markdown",
      "metadata": {
        "id": "view-in-github",
        "colab_type": "text"
      },
      "source": [
        "<a href=\"https://colab.research.google.com/github/aryaar2004/AI-ASSIGNMENT-2/blob/main/ai_assignment_2.ipynb\" target=\"_parent\"><img src=\"https://colab.research.google.com/assets/colab-badge.svg\" alt=\"Open In Colab\"/></a>"
      ]
    },
    {
      "cell_type": "markdown",
      "source": [
        "What this Colab code does\n",
        "\n",
        "Installs necessary libraries.\n",
        "\n",
        "Loads Iris dataset (built into scikit-learn).\n",
        "\n",
        "Trains a RandomForest classifier.\n",
        "\n",
        "Prints accuracy, confusion matrix, and classification report.\n",
        "\n",
        "Saves the model (iris_model.joblib) in Colab.\n",
        "\n",
        "Tests prediction for a sample [5.1, 3.5, 1.4, 0.2]."
      ],
      "metadata": {
        "id": "AdgsIVX_sNzd"
      }
    },
    {
      "cell_type": "code",
      "execution_count": null,
      "metadata": {
        "colab": {
          "base_uri": "https://localhost:8080/"
        },
        "id": "RrPOdy_NsMoh",
        "outputId": "c3e77a6c-59c4-4a6e-9f09-563bfaf87610"
      },
      "outputs": [
        {
          "output_type": "stream",
          "name": "stdout",
          "text": [
            "Requirement already satisfied: scikit-learn in /usr/local/lib/python3.12/dist-packages (1.6.1)\n",
            "Requirement already satisfied: joblib in /usr/local/lib/python3.12/dist-packages (1.5.2)\n",
            "Requirement already satisfied: numpy>=1.19.5 in /usr/local/lib/python3.12/dist-packages (from scikit-learn) (2.0.2)\n",
            "Requirement already satisfied: scipy>=1.6.0 in /usr/local/lib/python3.12/dist-packages (from scikit-learn) (1.16.2)\n",
            "Requirement already satisfied: threadpoolctl>=3.1.0 in /usr/local/lib/python3.12/dist-packages (from scikit-learn) (3.6.0)\n",
            "✅ Accuracy: 0.9\n",
            "\n",
            "Classification Report:\n",
            "               precision    recall  f1-score   support\n",
            "\n",
            "      setosa       1.00      1.00      1.00        10\n",
            "  versicolor       0.82      0.90      0.86        10\n",
            "   virginica       0.89      0.80      0.84        10\n",
            "\n",
            "    accuracy                           0.90        30\n",
            "   macro avg       0.90      0.90      0.90        30\n",
            "weighted avg       0.90      0.90      0.90        30\n",
            "\n",
            "\n",
            "Confusion Matrix:\n",
            " [[10  0  0]\n",
            " [ 0  9  1]\n",
            " [ 0  2  8]]\n",
            "\n",
            "Model saved as iris_model.joblib\n",
            "\n",
            "Sample Input: [5.1, 3.5, 1.4, 0.2]\n",
            "Predicted Class: setosa\n",
            "Probabilities: {np.str_('setosa'): np.float64(1.0), np.str_('versicolor'): np.float64(0.0), np.str_('virginica'): np.float64(0.0)}\n"
          ]
        }
      ],
      "source": [
        "# === Step 1: Install dependencies ===\n",
        "!pip install scikit-learn joblib\n",
        "\n",
        "# === Step 2: Imports ===\n",
        "import numpy as np\n",
        "import pandas as pd\n",
        "from sklearn.datasets import load_iris\n",
        "from sklearn.model_selection import train_test_split\n",
        "from sklearn.ensemble import RandomForestClassifier\n",
        "from sklearn.metrics import classification_report, confusion_matrix, accuracy_score\n",
        "import joblib\n",
        "\n",
        "# === Step 3: Load dataset ===\n",
        "iris = load_iris()\n",
        "X, y = iris.data, iris.target\n",
        "target_names = iris.target_names\n",
        "\n",
        "# === Step 4: Split data ===\n",
        "X_train, X_test, y_train, y_test = train_test_split(\n",
        "    X, y, test_size=0.2, random_state=42, stratify=y\n",
        ")\n",
        "\n",
        "# === Step 5: Train model ===\n",
        "clf = RandomForestClassifier(n_estimators=100, random_state=42)\n",
        "clf.fit(X_train, y_train)\n",
        "\n",
        "# === Step 6: Evaluate model ===\n",
        "y_pred = clf.predict(X_test)\n",
        "\n",
        "acc = accuracy_score(y_test, y_pred)\n",
        "print(\"✅ Accuracy:\", acc)\n",
        "print(\"\\nClassification Report:\\n\", classification_report(y_test, y_pred, target_names=target_names))\n",
        "print(\"\\nConfusion Matrix:\\n\", confusion_matrix(y_test, y_pred))\n",
        "\n",
        "# === Step 7: Save model ===\n",
        "joblib.dump(clf, \"iris_model.joblib\")\n",
        "print(\"\\nModel saved as iris_model.joblib\")\n",
        "\n",
        "# === Step 8: Try prediction ===\n",
        "sample = np.array([[5.1, 3.5, 1.4, 0.2]])  # sepal_len, sepal_wid, petal_len, petal_wid\n",
        "pred = clf.predict(sample)[0]\n",
        "proba = clf.predict_proba(sample)[0]\n",
        "\n",
        "print(\"\\nSample Input:\", sample.tolist()[0])\n",
        "print(\"Predicted Class:\", target_names[pred])\n",
        "print(\"Probabilities:\", dict(zip(target_names, proba)))\n"
      ]
    }
  ]
}